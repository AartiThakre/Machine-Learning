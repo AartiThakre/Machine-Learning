{
 "cells": [
  {
   "cell_type": "code",
   "execution_count": 1,
   "id": "13cf17be-6ab3-47ee-9aa1-3865d4424c5c",
   "metadata": {},
   "outputs": [],
   "source": [
    "import numpy as np \n",
    "import pandas as pd\n",
    "import matplotlib.pyplot as plt\n",
    "import seaborn as sns\n",
    "sns.set_style(\"whitegrid\")"
   ]
  },
  {
   "cell_type": "code",
   "execution_count": 2,
   "id": "ec6413ad-4a21-401f-9765-92d8790484a1",
   "metadata": {},
   "outputs": [],
   "source": [
    "position = pd.read_csv(\"training-dataset-job-categorisation[1].csv\")"
   ]
  },
  {
   "cell_type": "code",
   "execution_count": 3,
   "id": "6b175cfe-fcab-471b-827a-06d50caf2984",
   "metadata": {},
   "outputs": [
    {
     "data": {
      "text/html": [
       "<div>\n",
       "<style scoped>\n",
       "    .dataframe tbody tr th:only-of-type {\n",
       "        vertical-align: middle;\n",
       "    }\n",
       "\n",
       "    .dataframe tbody tr th {\n",
       "        vertical-align: top;\n",
       "    }\n",
       "\n",
       "    .dataframe thead th {\n",
       "        text-align: right;\n",
       "    }\n",
       "</style>\n",
       "<table border=\"1\" class=\"dataframe\">\n",
       "  <thead>\n",
       "    <tr style=\"text-align: right;\">\n",
       "      <th></th>\n",
       "      <th>job_id</th>\n",
       "      <th>job_title</th>\n",
       "      <th>category</th>\n",
       "      <th>subcategory</th>\n",
       "      <th>role</th>\n",
       "      <th>Updated category</th>\n",
       "      <th>importance</th>\n",
       "    </tr>\n",
       "  </thead>\n",
       "  <tbody>\n",
       "    <tr>\n",
       "      <th>0</th>\n",
       "      <td>74630583</td>\n",
       "      <td>Procurement Executive (Contract)</td>\n",
       "      <td>Manufacturing, Transport &amp; Logistics</td>\n",
       "      <td>Purchasing, Procurement &amp; Inventory</td>\n",
       "      <td>procurement-executive</td>\n",
       "      <td>NaN</td>\n",
       "      <td>Niveau 1</td>\n",
       "    </tr>\n",
       "    <tr>\n",
       "      <th>1</th>\n",
       "      <td>74660602</td>\n",
       "      <td>Account Executive/ Assistant</td>\n",
       "      <td>Accounting</td>\n",
       "      <td>Bookkeeping &amp; Small Practice Accounting</td>\n",
       "      <td>executive-assistant</td>\n",
       "      <td>NaN</td>\n",
       "      <td>Niveau 3</td>\n",
       "    </tr>\n",
       "    <tr>\n",
       "      <th>2</th>\n",
       "      <td>74679363</td>\n",
       "      <td>Purchasing Executive</td>\n",
       "      <td>Manufacturing, Transport &amp; Logistics</td>\n",
       "      <td>Purchasing, Procurement &amp; Inventory</td>\n",
       "      <td>purchasing-executive</td>\n",
       "      <td>Operations/Logistics</td>\n",
       "      <td>Niveau 1</td>\n",
       "    </tr>\n",
       "    <tr>\n",
       "      <th>3</th>\n",
       "      <td>74657915</td>\n",
       "      <td>PURCHASING EXECUTIVE</td>\n",
       "      <td>Engineering</td>\n",
       "      <td>Project Engineering</td>\n",
       "      <td>purchasing-executive</td>\n",
       "      <td>Operations/Logistics</td>\n",
       "      <td>Niveau 1</td>\n",
       "    </tr>\n",
       "    <tr>\n",
       "      <th>4</th>\n",
       "      <td>74662794</td>\n",
       "      <td>Accounts Assistant (AP)</td>\n",
       "      <td>Accounting</td>\n",
       "      <td>Accounts Payable</td>\n",
       "      <td>accounts-assistant</td>\n",
       "      <td>NaN</td>\n",
       "      <td>Niveau 3</td>\n",
       "    </tr>\n",
       "    <tr>\n",
       "      <th>...</th>\n",
       "      <td>...</td>\n",
       "      <td>...</td>\n",
       "      <td>...</td>\n",
       "      <td>...</td>\n",
       "      <td>...</td>\n",
       "      <td>...</td>\n",
       "      <td>...</td>\n",
       "    </tr>\n",
       "    <tr>\n",
       "      <th>39690</th>\n",
       "      <td>76659690</td>\n",
       "      <td>Hotel Manager</td>\n",
       "      <td>Hospitality &amp; Tourism</td>\n",
       "      <td>Management</td>\n",
       "      <td>hotel-manager</td>\n",
       "      <td>NaN</td>\n",
       "      <td>Niveau 3</td>\n",
       "    </tr>\n",
       "    <tr>\n",
       "      <th>39691</th>\n",
       "      <td>76653277</td>\n",
       "      <td>Marketing Specialist, APAC</td>\n",
       "      <td>Marketing &amp; Communications</td>\n",
       "      <td>Marketing Communications</td>\n",
       "      <td>marketing-specialist</td>\n",
       "      <td>Marketing/Sales</td>\n",
       "      <td>NaN</td>\n",
       "    </tr>\n",
       "    <tr>\n",
       "      <th>39692</th>\n",
       "      <td>76674488</td>\n",
       "      <td>Talent Acquisition Partner</td>\n",
       "      <td>Human Resources &amp; Recruitment</td>\n",
       "      <td>Recruitment - Internal</td>\n",
       "      <td>talent-acquisition-partner</td>\n",
       "      <td>Human Resources (HR)</td>\n",
       "      <td>NaN</td>\n",
       "    </tr>\n",
       "    <tr>\n",
       "      <th>39693</th>\n",
       "      <td>76658887</td>\n",
       "      <td>Motor Insurance Executive</td>\n",
       "      <td>Insurance &amp; Superannuation</td>\n",
       "      <td>Brokerage</td>\n",
       "      <td>Motor-Insurance-Executive</td>\n",
       "      <td>NaN</td>\n",
       "      <td>Niveau 1</td>\n",
       "    </tr>\n",
       "    <tr>\n",
       "      <th>39694</th>\n",
       "      <td>76653289</td>\n",
       "      <td>Banca Specialist (Klang Valley)</td>\n",
       "      <td>Banking &amp; Financial Services</td>\n",
       "      <td>Banking - Retail/Branch</td>\n",
       "      <td>specialist</td>\n",
       "      <td>Finance</td>\n",
       "      <td>Niveau 3</td>\n",
       "    </tr>\n",
       "  </tbody>\n",
       "</table>\n",
       "<p>39695 rows × 7 columns</p>\n",
       "</div>"
      ],
      "text/plain": [
       "         job_id                         job_title  \\\n",
       "0      74630583  Procurement Executive (Contract)   \n",
       "1      74660602      Account Executive/ Assistant   \n",
       "2      74679363              Purchasing Executive   \n",
       "3      74657915              PURCHASING EXECUTIVE   \n",
       "4      74662794           Accounts Assistant (AP)   \n",
       "...         ...                               ...   \n",
       "39690  76659690                     Hotel Manager   \n",
       "39691  76653277        Marketing Specialist, APAC   \n",
       "39692  76674488        Talent Acquisition Partner   \n",
       "39693  76658887         Motor Insurance Executive   \n",
       "39694  76653289   Banca Specialist (Klang Valley)   \n",
       "\n",
       "                                   category  \\\n",
       "0      Manufacturing, Transport & Logistics   \n",
       "1                                Accounting   \n",
       "2      Manufacturing, Transport & Logistics   \n",
       "3                               Engineering   \n",
       "4                                Accounting   \n",
       "...                                     ...   \n",
       "39690                 Hospitality & Tourism   \n",
       "39691            Marketing & Communications   \n",
       "39692         Human Resources & Recruitment   \n",
       "39693            Insurance & Superannuation   \n",
       "39694          Banking & Financial Services   \n",
       "\n",
       "                                   subcategory                        role  \\\n",
       "0          Purchasing, Procurement & Inventory       procurement-executive   \n",
       "1      Bookkeeping & Small Practice Accounting         executive-assistant   \n",
       "2          Purchasing, Procurement & Inventory        purchasing-executive   \n",
       "3                          Project Engineering        purchasing-executive   \n",
       "4                             Accounts Payable          accounts-assistant   \n",
       "...                                        ...                         ...   \n",
       "39690                               Management               hotel-manager   \n",
       "39691                 Marketing Communications        marketing-specialist   \n",
       "39692                   Recruitment - Internal  talent-acquisition-partner   \n",
       "39693                                Brokerage   Motor-Insurance-Executive   \n",
       "39694                  Banking - Retail/Branch                  specialist   \n",
       "\n",
       "           Updated category importance  \n",
       "0                       NaN   Niveau 1  \n",
       "1                       NaN   Niveau 3  \n",
       "2      Operations/Logistics   Niveau 1  \n",
       "3      Operations/Logistics   Niveau 1  \n",
       "4                       NaN   Niveau 3  \n",
       "...                     ...        ...  \n",
       "39690                   NaN   Niveau 3  \n",
       "39691       Marketing/Sales        NaN  \n",
       "39692  Human Resources (HR)        NaN  \n",
       "39693                   NaN   Niveau 1  \n",
       "39694               Finance   Niveau 3  \n",
       "\n",
       "[39695 rows x 7 columns]"
      ]
     },
     "execution_count": 3,
     "metadata": {},
     "output_type": "execute_result"
    }
   ],
   "source": [
    "position"
   ]
  },
  {
   "cell_type": "code",
   "execution_count": 4,
   "id": "19a31ea5-bc2b-46ab-9674-41ff7148b11e",
   "metadata": {},
   "outputs": [
    {
     "name": "stdout",
     "output_type": "stream",
     "text": [
      "Index(['job_id', 'job_title', 'category', 'subcategory', 'role',\n",
      "       'Updated category', 'importance'],\n",
      "      dtype='object')\n"
     ]
    }
   ],
   "source": [
    "print(position.columns)"
   ]
  },
  {
   "cell_type": "code",
   "execution_count": 5,
   "id": "5aca94f4-1e1e-4d93-b1ff-ba8cc8877a0f",
   "metadata": {},
   "outputs": [
    {
     "name": "stdout",
     "output_type": "stream",
     "text": [
      "job_id               int64\n",
      "job_title           object\n",
      "category            object\n",
      "subcategory         object\n",
      "role                object\n",
      "Updated category    object\n",
      "importance          object\n",
      "dtype: object\n"
     ]
    }
   ],
   "source": [
    "# Check for non-numeric columns\n",
    "print(position.dtypes)"
   ]
  },
  {
   "cell_type": "code",
   "execution_count": 6,
   "id": "8f4be55e-eae7-4a26-b1aa-9d61fa52e9fc",
   "metadata": {},
   "outputs": [
    {
     "data": {
      "text/plain": [
       "job_id                  0\n",
       "job_title               0\n",
       "category                0\n",
       "subcategory             0\n",
       "role                  875\n",
       "Updated category    10973\n",
       "importance          19888\n",
       "dtype: int64"
      ]
     },
     "execution_count": 6,
     "metadata": {},
     "output_type": "execute_result"
    }
   ],
   "source": [
    "position.isnull().sum()"
   ]
  },
  {
   "cell_type": "code",
   "execution_count": 7,
   "id": "6fdba375-d7a8-48c0-af93-fb5d1ea06346",
   "metadata": {},
   "outputs": [],
   "source": [
    "position[\"Updated category\"].fillna(position[\"Updated category\"].mode()[0], inplace=True)"
   ]
  },
  {
   "cell_type": "code",
   "execution_count": 8,
   "id": "b0bd2b1b-5bd6-48fb-9267-d00d5259ae9d",
   "metadata": {},
   "outputs": [
    {
     "name": "stdout",
     "output_type": "stream",
     "text": [
      "         job_id                         job_title  \\\n",
      "0      74630583  Procurement Executive (Contract)   \n",
      "1      74660602      Account Executive/ Assistant   \n",
      "2      74679363              Purchasing Executive   \n",
      "3      74657915              PURCHASING EXECUTIVE   \n",
      "4      74662794           Accounts Assistant (AP)   \n",
      "...         ...                               ...   \n",
      "39690  76659690                     Hotel Manager   \n",
      "39691  76653277        Marketing Specialist, APAC   \n",
      "39692  76674488        Talent Acquisition Partner   \n",
      "39693  76658887         Motor Insurance Executive   \n",
      "39694  76653289   Banca Specialist (Klang Valley)   \n",
      "\n",
      "                                   category  \\\n",
      "0      Manufacturing, Transport & Logistics   \n",
      "1                                Accounting   \n",
      "2      Manufacturing, Transport & Logistics   \n",
      "3                               Engineering   \n",
      "4                                Accounting   \n",
      "...                                     ...   \n",
      "39690                 Hospitality & Tourism   \n",
      "39691            Marketing & Communications   \n",
      "39692         Human Resources & Recruitment   \n",
      "39693            Insurance & Superannuation   \n",
      "39694          Banking & Financial Services   \n",
      "\n",
      "                                   subcategory                        role  \\\n",
      "0          Purchasing, Procurement & Inventory       procurement-executive   \n",
      "1      Bookkeeping & Small Practice Accounting         executive-assistant   \n",
      "2          Purchasing, Procurement & Inventory        purchasing-executive   \n",
      "3                          Project Engineering        purchasing-executive   \n",
      "4                             Accounts Payable          accounts-assistant   \n",
      "...                                        ...                         ...   \n",
      "39690                               Management               hotel-manager   \n",
      "39691                 Marketing Communications        marketing-specialist   \n",
      "39692                   Recruitment - Internal  talent-acquisition-partner   \n",
      "39693                                Brokerage   Motor-Insurance-Executive   \n",
      "39694                  Banking - Retail/Branch                  specialist   \n",
      "\n",
      "           Updated category importance  \n",
      "0      Operations/Logistics   Niveau 1  \n",
      "1      Operations/Logistics   Niveau 3  \n",
      "2      Operations/Logistics   Niveau 1  \n",
      "3      Operations/Logistics   Niveau 1  \n",
      "4      Operations/Logistics   Niveau 3  \n",
      "...                     ...        ...  \n",
      "39690  Operations/Logistics   Niveau 3  \n",
      "39691       Marketing/Sales        NaN  \n",
      "39692  Human Resources (HR)        NaN  \n",
      "39693  Operations/Logistics   Niveau 1  \n",
      "39694               Finance   Niveau 3  \n",
      "\n",
      "[39695 rows x 7 columns]\n"
     ]
    }
   ],
   "source": [
    "print(position)"
   ]
  },
  {
   "cell_type": "code",
   "execution_count": 9,
   "id": "ce8f1405-bec3-40aa-b57d-0fd4eb427497",
   "metadata": {},
   "outputs": [],
   "source": [
    "# Forward fill \n",
    "position[\"role\"].ffill(inplace=True)\n",
    "#similarly you can use bacward fill just write bfill instead of ffill"
   ]
  },
  {
   "cell_type": "code",
   "execution_count": 10,
   "id": "73c42682-2644-47d8-93ad-8f61f522889a",
   "metadata": {},
   "outputs": [
    {
     "name": "stdout",
     "output_type": "stream",
     "text": [
      "         job_id                         job_title  \\\n",
      "0      74630583  Procurement Executive (Contract)   \n",
      "1      74660602      Account Executive/ Assistant   \n",
      "2      74679363              Purchasing Executive   \n",
      "3      74657915              PURCHASING EXECUTIVE   \n",
      "4      74662794           Accounts Assistant (AP)   \n",
      "...         ...                               ...   \n",
      "39690  76659690                     Hotel Manager   \n",
      "39691  76653277        Marketing Specialist, APAC   \n",
      "39692  76674488        Talent Acquisition Partner   \n",
      "39693  76658887         Motor Insurance Executive   \n",
      "39694  76653289   Banca Specialist (Klang Valley)   \n",
      "\n",
      "                                   category  \\\n",
      "0      Manufacturing, Transport & Logistics   \n",
      "1                                Accounting   \n",
      "2      Manufacturing, Transport & Logistics   \n",
      "3                               Engineering   \n",
      "4                                Accounting   \n",
      "...                                     ...   \n",
      "39690                 Hospitality & Tourism   \n",
      "39691            Marketing & Communications   \n",
      "39692         Human Resources & Recruitment   \n",
      "39693            Insurance & Superannuation   \n",
      "39694          Banking & Financial Services   \n",
      "\n",
      "                                   subcategory                        role  \\\n",
      "0          Purchasing, Procurement & Inventory       procurement-executive   \n",
      "1      Bookkeeping & Small Practice Accounting         executive-assistant   \n",
      "2          Purchasing, Procurement & Inventory        purchasing-executive   \n",
      "3                          Project Engineering        purchasing-executive   \n",
      "4                             Accounts Payable          accounts-assistant   \n",
      "...                                        ...                         ...   \n",
      "39690                               Management               hotel-manager   \n",
      "39691                 Marketing Communications        marketing-specialist   \n",
      "39692                   Recruitment - Internal  talent-acquisition-partner   \n",
      "39693                                Brokerage   Motor-Insurance-Executive   \n",
      "39694                  Banking - Retail/Branch                  specialist   \n",
      "\n",
      "           Updated category importance  \n",
      "0      Operations/Logistics   Niveau 1  \n",
      "1      Operations/Logistics   Niveau 3  \n",
      "2      Operations/Logistics   Niveau 1  \n",
      "3      Operations/Logistics   Niveau 1  \n",
      "4      Operations/Logistics   Niveau 3  \n",
      "...                     ...        ...  \n",
      "39690  Operations/Logistics   Niveau 3  \n",
      "39691       Marketing/Sales        NaN  \n",
      "39692  Human Resources (HR)        NaN  \n",
      "39693  Operations/Logistics   Niveau 1  \n",
      "39694               Finance   Niveau 3  \n",
      "\n",
      "[39695 rows x 7 columns]\n"
     ]
    }
   ],
   "source": [
    "print(position)"
   ]
  },
  {
   "cell_type": "code",
   "execution_count": 11,
   "id": "5b1614e6-f40c-406a-8b2e-d2bba2225e5c",
   "metadata": {},
   "outputs": [],
   "source": [
    "position[\"importance\"].fillna(position[\"importance\"].mode()[0], inplace=True)"
   ]
  },
  {
   "cell_type": "code",
   "execution_count": 12,
   "id": "2588be75-a63c-48cb-b967-8162f3db867f",
   "metadata": {},
   "outputs": [
    {
     "data": {
      "text/plain": [
       "job_id              0\n",
       "job_title           0\n",
       "category            0\n",
       "subcategory         0\n",
       "role                0\n",
       "Updated category    0\n",
       "importance          0\n",
       "dtype: int64"
      ]
     },
     "execution_count": 12,
     "metadata": {},
     "output_type": "execute_result"
    }
   ],
   "source": [
    "position.isnull().sum()"
   ]
  },
  {
   "cell_type": "code",
   "execution_count": 13,
   "id": "f82154db-d264-49ba-84cb-e686e3f81fba",
   "metadata": {},
   "outputs": [],
   "source": [
    "from sklearn.preprocessing import LabelEncoder"
   ]
  },
  {
   "cell_type": "code",
   "execution_count": 14,
   "id": "da964501-3b5c-4a45-a43a-c722a79f0845",
   "metadata": {},
   "outputs": [],
   "source": [
    "label_encoder = LabelEncoder()"
   ]
  },
  {
   "cell_type": "code",
   "execution_count": 15,
   "id": "d5fe17c4-3b05-40f8-856a-452b10f55ae1",
   "metadata": {},
   "outputs": [],
   "source": [
    "position[\"importance\"] = label_encoder.fit_transform(position[\"importance\"])"
   ]
  },
  {
   "cell_type": "code",
   "execution_count": 16,
   "id": "c80c8325-01d4-4da2-b09d-14abce643db0",
   "metadata": {},
   "outputs": [
    {
     "data": {
      "text/html": [
       "<div>\n",
       "<style scoped>\n",
       "    .dataframe tbody tr th:only-of-type {\n",
       "        vertical-align: middle;\n",
       "    }\n",
       "\n",
       "    .dataframe tbody tr th {\n",
       "        vertical-align: top;\n",
       "    }\n",
       "\n",
       "    .dataframe thead th {\n",
       "        text-align: right;\n",
       "    }\n",
       "</style>\n",
       "<table border=\"1\" class=\"dataframe\">\n",
       "  <thead>\n",
       "    <tr style=\"text-align: right;\">\n",
       "      <th></th>\n",
       "      <th>job_id</th>\n",
       "      <th>job_title</th>\n",
       "      <th>category</th>\n",
       "      <th>subcategory</th>\n",
       "      <th>role</th>\n",
       "      <th>Updated category</th>\n",
       "      <th>importance</th>\n",
       "    </tr>\n",
       "  </thead>\n",
       "  <tbody>\n",
       "    <tr>\n",
       "      <th>0</th>\n",
       "      <td>74630583</td>\n",
       "      <td>Procurement Executive (Contract)</td>\n",
       "      <td>Manufacturing, Transport &amp; Logistics</td>\n",
       "      <td>Purchasing, Procurement &amp; Inventory</td>\n",
       "      <td>procurement-executive</td>\n",
       "      <td>Operations/Logistics</td>\n",
       "      <td>2</td>\n",
       "    </tr>\n",
       "    <tr>\n",
       "      <th>1</th>\n",
       "      <td>74660602</td>\n",
       "      <td>Account Executive/ Assistant</td>\n",
       "      <td>Accounting</td>\n",
       "      <td>Bookkeeping &amp; Small Practice Accounting</td>\n",
       "      <td>executive-assistant</td>\n",
       "      <td>Operations/Logistics</td>\n",
       "      <td>4</td>\n",
       "    </tr>\n",
       "    <tr>\n",
       "      <th>2</th>\n",
       "      <td>74679363</td>\n",
       "      <td>Purchasing Executive</td>\n",
       "      <td>Manufacturing, Transport &amp; Logistics</td>\n",
       "      <td>Purchasing, Procurement &amp; Inventory</td>\n",
       "      <td>purchasing-executive</td>\n",
       "      <td>Operations/Logistics</td>\n",
       "      <td>2</td>\n",
       "    </tr>\n",
       "    <tr>\n",
       "      <th>3</th>\n",
       "      <td>74657915</td>\n",
       "      <td>PURCHASING EXECUTIVE</td>\n",
       "      <td>Engineering</td>\n",
       "      <td>Project Engineering</td>\n",
       "      <td>purchasing-executive</td>\n",
       "      <td>Operations/Logistics</td>\n",
       "      <td>2</td>\n",
       "    </tr>\n",
       "    <tr>\n",
       "      <th>4</th>\n",
       "      <td>74662794</td>\n",
       "      <td>Accounts Assistant (AP)</td>\n",
       "      <td>Accounting</td>\n",
       "      <td>Accounts Payable</td>\n",
       "      <td>accounts-assistant</td>\n",
       "      <td>Operations/Logistics</td>\n",
       "      <td>4</td>\n",
       "    </tr>\n",
       "    <tr>\n",
       "      <th>...</th>\n",
       "      <td>...</td>\n",
       "      <td>...</td>\n",
       "      <td>...</td>\n",
       "      <td>...</td>\n",
       "      <td>...</td>\n",
       "      <td>...</td>\n",
       "      <td>...</td>\n",
       "    </tr>\n",
       "    <tr>\n",
       "      <th>39690</th>\n",
       "      <td>76659690</td>\n",
       "      <td>Hotel Manager</td>\n",
       "      <td>Hospitality &amp; Tourism</td>\n",
       "      <td>Management</td>\n",
       "      <td>hotel-manager</td>\n",
       "      <td>Operations/Logistics</td>\n",
       "      <td>4</td>\n",
       "    </tr>\n",
       "    <tr>\n",
       "      <th>39691</th>\n",
       "      <td>76653277</td>\n",
       "      <td>Marketing Specialist, APAC</td>\n",
       "      <td>Marketing &amp; Communications</td>\n",
       "      <td>Marketing Communications</td>\n",
       "      <td>marketing-specialist</td>\n",
       "      <td>Marketing/Sales</td>\n",
       "      <td>4</td>\n",
       "    </tr>\n",
       "    <tr>\n",
       "      <th>39692</th>\n",
       "      <td>76674488</td>\n",
       "      <td>Talent Acquisition Partner</td>\n",
       "      <td>Human Resources &amp; Recruitment</td>\n",
       "      <td>Recruitment - Internal</td>\n",
       "      <td>talent-acquisition-partner</td>\n",
       "      <td>Human Resources (HR)</td>\n",
       "      <td>4</td>\n",
       "    </tr>\n",
       "    <tr>\n",
       "      <th>39693</th>\n",
       "      <td>76658887</td>\n",
       "      <td>Motor Insurance Executive</td>\n",
       "      <td>Insurance &amp; Superannuation</td>\n",
       "      <td>Brokerage</td>\n",
       "      <td>Motor-Insurance-Executive</td>\n",
       "      <td>Operations/Logistics</td>\n",
       "      <td>2</td>\n",
       "    </tr>\n",
       "    <tr>\n",
       "      <th>39694</th>\n",
       "      <td>76653289</td>\n",
       "      <td>Banca Specialist (Klang Valley)</td>\n",
       "      <td>Banking &amp; Financial Services</td>\n",
       "      <td>Banking - Retail/Branch</td>\n",
       "      <td>specialist</td>\n",
       "      <td>Finance</td>\n",
       "      <td>4</td>\n",
       "    </tr>\n",
       "  </tbody>\n",
       "</table>\n",
       "<p>39695 rows × 7 columns</p>\n",
       "</div>"
      ],
      "text/plain": [
       "         job_id                         job_title  \\\n",
       "0      74630583  Procurement Executive (Contract)   \n",
       "1      74660602      Account Executive/ Assistant   \n",
       "2      74679363              Purchasing Executive   \n",
       "3      74657915              PURCHASING EXECUTIVE   \n",
       "4      74662794           Accounts Assistant (AP)   \n",
       "...         ...                               ...   \n",
       "39690  76659690                     Hotel Manager   \n",
       "39691  76653277        Marketing Specialist, APAC   \n",
       "39692  76674488        Talent Acquisition Partner   \n",
       "39693  76658887         Motor Insurance Executive   \n",
       "39694  76653289   Banca Specialist (Klang Valley)   \n",
       "\n",
       "                                   category  \\\n",
       "0      Manufacturing, Transport & Logistics   \n",
       "1                                Accounting   \n",
       "2      Manufacturing, Transport & Logistics   \n",
       "3                               Engineering   \n",
       "4                                Accounting   \n",
       "...                                     ...   \n",
       "39690                 Hospitality & Tourism   \n",
       "39691            Marketing & Communications   \n",
       "39692         Human Resources & Recruitment   \n",
       "39693            Insurance & Superannuation   \n",
       "39694          Banking & Financial Services   \n",
       "\n",
       "                                   subcategory                        role  \\\n",
       "0          Purchasing, Procurement & Inventory       procurement-executive   \n",
       "1      Bookkeeping & Small Practice Accounting         executive-assistant   \n",
       "2          Purchasing, Procurement & Inventory        purchasing-executive   \n",
       "3                          Project Engineering        purchasing-executive   \n",
       "4                             Accounts Payable          accounts-assistant   \n",
       "...                                        ...                         ...   \n",
       "39690                               Management               hotel-manager   \n",
       "39691                 Marketing Communications        marketing-specialist   \n",
       "39692                   Recruitment - Internal  talent-acquisition-partner   \n",
       "39693                                Brokerage   Motor-Insurance-Executive   \n",
       "39694                  Banking - Retail/Branch                  specialist   \n",
       "\n",
       "           Updated category  importance  \n",
       "0      Operations/Logistics           2  \n",
       "1      Operations/Logistics           4  \n",
       "2      Operations/Logistics           2  \n",
       "3      Operations/Logistics           2  \n",
       "4      Operations/Logistics           4  \n",
       "...                     ...         ...  \n",
       "39690  Operations/Logistics           4  \n",
       "39691       Marketing/Sales           4  \n",
       "39692  Human Resources (HR)           4  \n",
       "39693  Operations/Logistics           2  \n",
       "39694               Finance           4  \n",
       "\n",
       "[39695 rows x 7 columns]"
      ]
     },
     "execution_count": 16,
     "metadata": {},
     "output_type": "execute_result"
    }
   ],
   "source": [
    "position"
   ]
  },
  {
   "cell_type": "code",
   "execution_count": 17,
   "id": "73e787ed-d841-453b-ac7f-a25ecb9cf0e8",
   "metadata": {},
   "outputs": [
    {
     "name": "stdout",
     "output_type": "stream",
     "text": [
      "\n",
      "DataFrame with Label Encoding:\n",
      "         job_id                         job_title  \\\n",
      "0      74630583  Procurement Executive (Contract)   \n",
      "1      74660602      Account Executive/ Assistant   \n",
      "2      74679363              Purchasing Executive   \n",
      "3      74657915              PURCHASING EXECUTIVE   \n",
      "4      74662794           Accounts Assistant (AP)   \n",
      "...         ...                               ...   \n",
      "39690  76659690                     Hotel Manager   \n",
      "39691  76653277        Marketing Specialist, APAC   \n",
      "39692  76674488        Talent Acquisition Partner   \n",
      "39693  76658887         Motor Insurance Executive   \n",
      "39694  76653289   Banca Specialist (Klang Valley)   \n",
      "\n",
      "                                   category  \\\n",
      "0      Manufacturing, Transport & Logistics   \n",
      "1                                Accounting   \n",
      "2      Manufacturing, Transport & Logistics   \n",
      "3                               Engineering   \n",
      "4                                Accounting   \n",
      "...                                     ...   \n",
      "39690                 Hospitality & Tourism   \n",
      "39691            Marketing & Communications   \n",
      "39692         Human Resources & Recruitment   \n",
      "39693            Insurance & Superannuation   \n",
      "39694          Banking & Financial Services   \n",
      "\n",
      "                                   subcategory                        role  \\\n",
      "0          Purchasing, Procurement & Inventory       procurement-executive   \n",
      "1      Bookkeeping & Small Practice Accounting         executive-assistant   \n",
      "2          Purchasing, Procurement & Inventory        purchasing-executive   \n",
      "3                          Project Engineering        purchasing-executive   \n",
      "4                             Accounts Payable          accounts-assistant   \n",
      "...                                        ...                         ...   \n",
      "39690                               Management               hotel-manager   \n",
      "39691                 Marketing Communications        marketing-specialist   \n",
      "39692                   Recruitment - Internal  talent-acquisition-partner   \n",
      "39693                                Brokerage   Motor-Insurance-Executive   \n",
      "39694                  Banking - Retail/Branch                  specialist   \n",
      "\n",
      "           Updated category  importance  \n",
      "0      Operations/Logistics           2  \n",
      "1      Operations/Logistics           4  \n",
      "2      Operations/Logistics           2  \n",
      "3      Operations/Logistics           2  \n",
      "4      Operations/Logistics           4  \n",
      "...                     ...         ...  \n",
      "39690  Operations/Logistics           4  \n",
      "39691       Marketing/Sales           4  \n",
      "39692  Human Resources (HR)           4  \n",
      "39693  Operations/Logistics           2  \n",
      "39694               Finance           4  \n",
      "\n",
      "[39695 rows x 7 columns]\n"
     ]
    }
   ],
   "source": [
    "print(\"\\nDataFrame with Label Encoding:\") \n",
    "print(position)"
   ]
  },
  {
   "cell_type": "code",
   "execution_count": 18,
   "id": "14af4987-0300-4baa-82b3-a462218cdc6b",
   "metadata": {},
   "outputs": [],
   "source": [
    "position1 = position.drop(columns=[\"job_id\",\"importance\"])"
   ]
  },
  {
   "cell_type": "code",
   "execution_count": 19,
   "id": "8569dd6f-d273-4cfe-ac20-b56554803c4e",
   "metadata": {},
   "outputs": [],
   "source": [
    "X = pd.DataFrame(position1)"
   ]
  },
  {
   "cell_type": "code",
   "execution_count": 20,
   "id": "308b7375-2be3-4a47-90ac-f5a176b8ed33",
   "metadata": {},
   "outputs": [],
   "source": [
    "string_columns = [\"job_title\",\"category\",\"subcategory\",\"role\",\"Updated category\"]"
   ]
  },
  {
   "cell_type": "code",
   "execution_count": 21,
   "id": "0c922c3e-ad85-4353-85d1-3019509aa896",
   "metadata": {},
   "outputs": [],
   "source": [
    "# Apply Label Encoding to each string column \n",
    "for col in string_columns: \n",
    "    X[col] = label_encoder.fit_transform(X[col])"
   ]
  },
  {
   "cell_type": "code",
   "execution_count": 22,
   "id": "9d2e436e-8d9e-42c3-95de-a8adbe2ebdd9",
   "metadata": {},
   "outputs": [
    {
     "name": "stdout",
     "output_type": "stream",
     "text": [
      "\n",
      "DataFrame after Label Encoding:\n",
      "       job_title  category  subcategory  role  Updated category\n",
      "0          15656        20          230  2712                 7\n",
      "1            750         0           37  1738                 7\n",
      "2          16399        20          230  2840                 7\n",
      "3          14938        11          225  2840                 7\n",
      "4            935         0            2   776                 7\n",
      "...          ...       ...          ...   ...               ...\n",
      "39690       9975        15          154  1975                 7\n",
      "39691      13610        21          168  2388                 6\n",
      "39692      22048        16          236  3362                 3\n",
      "39693      13880        18           39   472                 7\n",
      "39694       3287         3           32  3260                 2\n",
      "\n",
      "[39695 rows x 5 columns]\n"
     ]
    }
   ],
   "source": [
    "print(\"\\nDataFrame after Label Encoding:\")\n",
    "print(X)"
   ]
  },
  {
   "cell_type": "code",
   "execution_count": 23,
   "id": "a74235b9-7e3c-4cb8-876b-ec81b8595b72",
   "metadata": {},
   "outputs": [],
   "source": [
    "y =( position.iloc[:,6]).values"
   ]
  },
  {
   "cell_type": "code",
   "execution_count": 24,
   "id": "d6bbddb6-7665-4756-83a6-2884cf31028d",
   "metadata": {},
   "outputs": [
    {
     "data": {
      "text/plain": [
       "array([2, 4, 2, ..., 4, 2, 4])"
      ]
     },
     "execution_count": 24,
     "metadata": {},
     "output_type": "execute_result"
    }
   ],
   "source": [
    "y"
   ]
  },
  {
   "cell_type": "code",
   "execution_count": 25,
   "id": "4d569599-078e-419e-b0ab-fcff4446f180",
   "metadata": {},
   "outputs": [],
   "source": [
    "y_reshape = y.reshape(-1,1)"
   ]
  },
  {
   "cell_type": "code",
   "execution_count": 26,
   "id": "a02d6475-dd0c-4d54-9d5f-00da8e738a94",
   "metadata": {},
   "outputs": [],
   "source": [
    "from sklearn.impute import SimpleImputer"
   ]
  },
  {
   "cell_type": "code",
   "execution_count": 27,
   "id": "6c54c8ae-1e78-45f1-84b8-eb1917e0f5f8",
   "metadata": {},
   "outputs": [],
   "source": [
    "imputer = SimpleImputer(strategy=\"mean\")"
   ]
  },
  {
   "cell_type": "code",
   "execution_count": 28,
   "id": "66fef02a-4016-4667-ad08-55f7a9ea27ae",
   "metadata": {},
   "outputs": [],
   "source": [
    "Y = imputer.fit_transform(y_reshape)"
   ]
  },
  {
   "cell_type": "code",
   "execution_count": 29,
   "id": "a12275f4-880c-421a-b558-a2ec3f78eb27",
   "metadata": {},
   "outputs": [
    {
     "name": "stdout",
     "output_type": "stream",
     "text": [
      "[[2.]\n",
      " [4.]\n",
      " [2.]\n",
      " ...\n",
      " [4.]\n",
      " [2.]\n",
      " [4.]]\n"
     ]
    }
   ],
   "source": [
    "print(Y)"
   ]
  },
  {
   "cell_type": "code",
   "execution_count": 31,
   "id": "511bf409-1a04-4367-b04e-679088fbc46a",
   "metadata": {},
   "outputs": [],
   "source": [
    "#Calculate the correlation matrix \n",
    "cor=X.corr()"
   ]
  },
  {
   "cell_type": "code",
   "execution_count": 32,
   "id": "07fc7e45-56c0-4ab6-92c1-471ccebde17f",
   "metadata": {},
   "outputs": [
    {
     "data": {
      "image/png": "[encoded data removed]",
      "text/plain": [
       "<Figure size 1000x1000 with 2 Axes>"
      ]
     },
     "metadata": {},
     "output_type": "display_data"
    }
   ],
   "source": [
    "plt.figure(figsize=(10, 10)) \n",
    "sns.heatmap(cor, annot=True, cmap=plt.cm.Blues_r)\n",
    "plt.title(\"Heatmap of Correlation Matrix\") \n",
    "plt.show()"
   ]
  },
  {
   "cell_type": "code",
   "execution_count": 33,
   "id": "2c66d322-992e-4327-891c-ff49a788ff31",
   "metadata": {},
   "outputs": [],
   "source": [
    "from sklearn.model_selection import train_test_split"
   ]
  },
  {
   "cell_type": "code",
   "execution_count": 34,
   "id": "879f93d7-8ed2-4070-89bf-43603f184f95",
   "metadata": {},
   "outputs": [],
   "source": [
    "X_train,X_test,y_train,y_test = train_test_split(X,Y,test_size=0.2,random_state=0)"
   ]
  },
  {
   "cell_type": "code",
   "execution_count": 35,
   "id": "40822b8a-1ff6-4012-85fe-392c6efceb9a",
   "metadata": {},
   "outputs": [
    {
     "data": {
      "text/plain": [
       "(31756, 5)"
      ]
     },
     "execution_count": 35,
     "metadata": {},
     "output_type": "execute_result"
    }
   ],
   "source": [
    "X_train.shape"
   ]
  },
  {
   "cell_type": "code",
   "execution_count": 36,
   "id": "eefd48ff-1214-44a2-ae9c-7e3591d2e9f7",
   "metadata": {},
   "outputs": [
    {
     "data": {
      "text/plain": [
       "(7939, 5)"
      ]
     },
     "execution_count": 36,
     "metadata": {},
     "output_type": "execute_result"
    }
   ],
   "source": [
    "X_test.shape"
   ]
  },
  {
   "cell_type": "code",
   "execution_count": 37,
   "id": "ccb8036c-8d1e-4b11-a7eb-17243b8c05b4",
   "metadata": {},
   "outputs": [],
   "source": [
    "from sklearn.ensemble import RandomForestClassifier"
   ]
  },
  {
   "cell_type": "code",
   "execution_count": 54,
   "id": "3010a6e3-48db-4586-b01a-70a1f0cb5ee7",
   "metadata": {},
   "outputs": [],
   "source": [
    "model = RandomForestClassifier(n_estimators=90)"
   ]
  },
  {
   "cell_type": "code",
   "execution_count": 55,
   "id": "b95c6958-5378-4c03-b8f0-57420c5f041d",
   "metadata": {},
   "outputs": [
    {
     "name": "stderr",
     "output_type": "stream",
     "text": [
      "C:\\Users\\HP\\.conda\\envs\\tf1\\lib\\site-packages\\sklearn\\base.py:1152: DataConversionWarning: A column-vector y was passed when a 1d array was expected. Please change the shape of y to (n_samples,), for example using ravel().\n",
      "  return fit_method(estimator, *args, **kwargs)\n"
     ]
    },
    {
     "data": {
      "text/html": [
       "<style>#sk-container-id-3 {color: black;}#sk-container-id-3 pre{padding: 0;}#sk-container-id-3 div.sk-toggleable {background-color: white;}#sk-container-id-3 label.sk-toggleable__label {cursor: pointer;display: block;width: 100%;margin-bottom: 0;padding: 0.3em;box-sizing: border-box;text-align: center;}#sk-container-id-3 label.sk-toggleable__label-arrow:before {content: \"▸\";float: left;margin-right: 0.25em;color: #696969;}#sk-container-id-3 label.sk-toggleable__label-arrow:hover:before {color: black;}#sk-container-id-3 div.sk-estimator:hover label.sk-toggleable__label-arrow:before {color: black;}#sk-container-id-3 div.sk-toggleable__content {max-height: 0;max-width: 0;overflow: hidden;text-align: left;background-color: #f0f8ff;}#sk-container-id-3 div.sk-toggleable__content pre {margin: 0.2em;color: black;border-radius: 0.25em;background-color: #f0f8ff;}#sk-container-id-3 input.sk-toggleable__control:checked~div.sk-toggleable__content {max-height: 200px;max-width: 100%;overflow: auto;}#sk-container-id-3 input.sk-toggleable__control:checked~label.sk-toggleable__label-arrow:before {content: \"▾\";}#sk-container-id-3 div.sk-estimator input.sk-toggleable__control:checked~label.sk-toggleable__label {background-color: #d4ebff;}#sk-container-id-3 div.sk-label input.sk-toggleable__control:checked~label.sk-toggleable__label {background-color: #d4ebff;}#sk-container-id-3 input.sk-hidden--visually {border: 0;clip: rect(1px 1px 1px 1px);clip: rect(1px, 1px, 1px, 1px);height: 1px;margin: -1px;overflow: hidden;padding: 0;position: absolute;width: 1px;}#sk-container-id-3 div.sk-estimator {font-family: monospace;background-color: #f0f8ff;border: 1px dotted black;border-radius: 0.25em;box-sizing: border-box;margin-bottom: 0.5em;}#sk-container-id-3 div.sk-estimator:hover {background-color: #d4ebff;}#sk-container-id-3 div.sk-parallel-item::after {content: \"\";width: 100%;border-bottom: 1px solid gray;flex-grow: 1;}#sk-container-id-3 div.sk-label:hover label.sk-toggleable__label {background-color: #d4ebff;}#sk-container-id-3 div.sk-serial::before {content: \"\";position: absolute;border-left: 1px solid gray;box-sizing: border-box;top: 0;bottom: 0;left: 50%;z-index: 0;}#sk-container-id-3 div.sk-serial {display: flex;flex-direction: column;align-items: center;background-color: white;padding-right: 0.2em;padding-left: 0.2em;position: relative;}#sk-container-id-3 div.sk-item {position: relative;z-index: 1;}#sk-container-id-3 div.sk-parallel {display: flex;align-items: stretch;justify-content: center;background-color: white;position: relative;}#sk-container-id-3 div.sk-item::before, #sk-container-id-3 div.sk-parallel-item::before {content: \"\";position: absolute;border-left: 1px solid gray;box-sizing: border-box;top: 0;bottom: 0;left: 50%;z-index: -1;}#sk-container-id-3 div.sk-parallel-item {display: flex;flex-direction: column;z-index: 1;position: relative;background-color: white;}#sk-container-id-3 div.sk-parallel-item:first-child::after {align-self: flex-end;width: 50%;}#sk-container-id-3 div.sk-parallel-item:last-child::after {align-self: flex-start;width: 50%;}#sk-container-id-3 div.sk-parallel-item:only-child::after {width: 0;}#sk-container-id-3 div.sk-dashed-wrapped {border: 1px dashed gray;margin: 0 0.4em 0.5em 0.4em;box-sizing: border-box;padding-bottom: 0.4em;background-color: white;}#sk-container-id-3 div.sk-label label {font-family: monospace;font-weight: bold;display: inline-block;line-height: 1.2em;}#sk-container-id-3 div.sk-label-container {text-align: center;}#sk-container-id-3 div.sk-container {/* jupyter's `normalize.less` sets `[hidden] { display: none; }` but bootstrap.min.css set `[hidden] { display: none !important; }` so we also need the `!important` here to be able to override the default hidden behavior on the sphinx rendered scikit-learn.org. See: https://github.com/scikit-learn/scikit-learn/issues/21755 */display: inline-block !important;position: relative;}#sk-container-id-3 div.sk-text-repr-fallback {display: none;}</style><div id=\"sk-container-id-3\" class=\"sk-top-container\"><div class=\"sk-text-repr-fallback\"><pre>RandomForestClassifier(n_estimators=90)</pre><b>In a Jupyter environment, please rerun this cell to show the HTML representation or trust the notebook. <br />On GitHub, the HTML representation is unable to render, please try loading this page with nbviewer.org.</b></div><div class=\"sk-container\" hidden><div class=\"sk-item\"><div class=\"sk-estimator sk-toggleable\"><input class=\"sk-toggleable__control sk-hidden--visually\" id=\"sk-estimator-id-3\" type=\"checkbox\" checked><label for=\"sk-estimator-id-3\" class=\"sk-toggleable__label sk-toggleable__label-arrow\">RandomForestClassifier</label><div class=\"sk-toggleable__content\"><pre>RandomForestClassifier(n_estimators=90)</pre></div></div></div></div></div>"
      ],
      "text/plain": [
       "RandomForestClassifier(n_estimators=90)"
      ]
     },
     "execution_count": 55,
     "metadata": {},
     "output_type": "execute_result"
    }
   ],
   "source": [
    "model.fit(X_train,y_train)"
   ]
  },
  {
   "cell_type": "code",
   "execution_count": 56,
   "id": "ed5794ff-7706-4d29-bccb-f58735d7c37e",
   "metadata": {},
   "outputs": [],
   "source": [
    "y_pred = model.predict(X_test)"
   ]
  },
  {
   "cell_type": "code",
   "execution_count": 57,
   "id": "78237a15-a7db-459c-a729-abde065e1b95",
   "metadata": {},
   "outputs": [
    {
     "data": {
      "text/plain": [
       "array([4., 4., 4., ..., 4., 4., 4.])"
      ]
     },
     "execution_count": 57,
     "metadata": {},
     "output_type": "execute_result"
    }
   ],
   "source": [
    "y_pred"
   ]
  },
  {
   "cell_type": "code",
   "execution_count": 58,
   "id": "c5a69f66-b75b-4392-9b57-88a0b63ee907",
   "metadata": {},
   "outputs": [
    {
     "data": {
      "text/plain": [
       "array([[4.],\n",
       "       [4.],\n",
       "       [4.],\n",
       "       ...,\n",
       "       [4.],\n",
       "       [4.],\n",
       "       [4.]])"
      ]
     },
     "execution_count": 58,
     "metadata": {},
     "output_type": "execute_result"
    }
   ],
   "source": [
    "y_test"
   ]
  },
  {
   "cell_type": "code",
   "execution_count": 59,
   "id": "173b013a-e69e-44c6-ae62-bf4c00e80cd5",
   "metadata": {},
   "outputs": [],
   "source": [
    "from sklearn.metrics import confusion_matrix,classification_report"
   ]
  },
  {
   "cell_type": "code",
   "execution_count": 60,
   "id": "3517adee-7902-45ca-abf3-369d87ae4f91",
   "metadata": {},
   "outputs": [
    {
     "name": "stdout",
     "output_type": "stream",
     "text": [
      "[[1095    2  118    4    0]\n",
      " [   3   67   23    2    0]\n",
      " [  79    5 5851   48   22]\n",
      " [   9    3  109  271    2]\n",
      " [   6    0   43    5  172]]\n"
     ]
    }
   ],
   "source": [
    "print (confusion_matrix(y_test,y_pred))"
   ]
  },
  {
   "cell_type": "code",
   "execution_count": 61,
   "id": "ce420a91-dd82-4df5-9898-742ff40f1883",
   "metadata": {},
   "outputs": [
    {
     "name": "stdout",
     "output_type": "stream",
     "text": [
      "              precision    recall  f1-score   support\n",
      "\n",
      "         2.0       0.92      0.90      0.91      1219\n",
      "         3.0       0.87      0.71      0.78        95\n",
      "         4.0       0.95      0.97      0.96      6005\n",
      "         5.0       0.82      0.69      0.75       394\n",
      "         6.0       0.88      0.76      0.82       226\n",
      "\n",
      "    accuracy                           0.94      7939\n",
      "   macro avg       0.89      0.81      0.84      7939\n",
      "weighted avg       0.94      0.94      0.94      7939\n",
      "\n"
     ]
    }
   ],
   "source": [
    "print(classification_report(y_test,y_pred))"
   ]
  },
  {
   "cell_type": "code",
   "execution_count": null,
   "id": "f4eb8b17-d669-4fad-b91f-c0b795d33e8d",
   "metadata": {},
   "outputs": [],
   "source": []
  },
  {
   "cell_type": "code",
   "execution_count": null,
   "id": "3e516faf-c287-4802-9dbe-ec1bb6c1ebc1",
   "metadata": {},
   "outputs": [],
   "source": []
  }
 ],
 "metadata": {
  "kernelspec": {
   "display_name": "Python 3 (ipykernel)",
   "language": "python",
   "name": "python3"
  },
  "language_info": {
   "codemirror_mode": {
    "name": "ipython",
    "version": 3
   },
   "file_extension": ".py",
   "mimetype": "text/x-python",
   "name": "python",
   "nbconvert_exporter": "python",
   "pygments_lexer": "ipython3",
   "version": "3.11.7"
  }
 },
 "nbformat": 4,
 "nbformat_minor": 5
}
